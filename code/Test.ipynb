{
 "cells": [
  {
   "cell_type": "code",
   "execution_count": null,
   "metadata": {},
   "outputs": [],
   "source": [
    "from common_packages import *\n",
    "from dataset import *\n",
    "from network import *\n",
    "from misc import *\n",
    "os.environ['CUDA_VISIBLE_DEVICES'] = '0'\n",
    "gpu_devices = list(np.arange(torch.cuda.device_count()))\n",
    "multi_gpu = len(gpu_devices) > 1\n",
    "ckpt_root = './ckpt'\n",
    "data_root = '../data'\n",
    "output_root = 'XXX'"
   ]
  },
  {
   "cell_type": "code",
   "execution_count": null,
   "metadata": {
    "scrolled": true
   },
   "outputs": [],
   "source": [
    "net = CoADNet_Dilated_ResNet50(mode='test', compute_loss=False).cuda()\n",
    "resume_params = os.path.join(ckpt_root, 'trained', 'CoADNet_DRN50_COCO-SEG_Final.pth')\n",
    "net.load_state_dict(torch.load(resume_params))\n",
    "test_set_list = ['Cosal2015', 'iCoseg', 'MSRC', 'CoSOD3k']\n",
    "for test_set in test_set_list:\n",
    "    output_folder = os.path.join(output_root, test_set)\n",
    "    is_shuffle = False\n",
    "    M = 5\n",
    "    stat_file = 'Stat-' + test_set + '.txt'\n",
    "    list_file = 'List-' + test_set + '.txt'\n",
    "    GroupNumbers, GroupNames, GroupSizes, GroupFileLists = Group_Stat_Parser(data_root, stat_file, list_file)\n",
    "    # add to integral multiple of M\n",
    "    for g in range(GroupNumbers):\n",
    "        group_file_list = GroupFileLists[g]\n",
    "        if is_shuffle:\n",
    "            np.random.shuffle(group_file_list)\n",
    "        gs = len(group_file_list)\n",
    "        if np.mod(gs, M) != 0:\n",
    "            num_add = M - np.mod(gs, M)\n",
    "            for n in range(num_add):\n",
    "                group_file_list.append(group_file_list[n])\n",
    "            GroupSizes[g] += num_add\n",
    "    net.eval()\n",
    "    for group_id in range(GroupNumbers):\n",
    "        print('{}:{}'.format(test_set, align_number(group_id+1, 3)))\n",
    "        group_file_list = GroupFileLists[group_id]\n",
    "        for index in range(0, len(group_file_list), M):\n",
    "            images_bag = []\n",
    "            names_bag = []\n",
    "            for j in range(index, index + M):\n",
    "                ti = transforms.ToTensor()\n",
    "                images_bag.append(ti(Image.open(os.path.join(data_root, group_file_list[j])+'.jpg')).unsqueeze(0))\n",
    "                names_bag.append(group_file_list[j].split('/')[-1])\n",
    "            with torch.no_grad():\n",
    "                grp_images = torch.cat(images_bag, dim=0).unsqueeze(0).cuda()\n",
    "                cosod_maps = net(grp_images)\n",
    "            for m in range(M):\n",
    "                group_name = names_bag[m].split('__')[0]\n",
    "                save_smap(cosod_maps[0, m, ...], os.path.join(output_folder, group_name, names_bag[m] + '.png'))\n",
    "    torch.cuda.empty_cache()\n",
    "    print('finished testing over: {}'.format(test_set))"
   ]
  }
 ],
 "metadata": {
  "kernelspec": {
   "display_name": "Python 3",
   "language": "python",
   "name": "python3"
  },
  "language_info": {
   "codemirror_mode": {
    "name": "ipython",
    "version": 3
   },
   "file_extension": ".py",
   "mimetype": "text/x-python",
   "name": "python",
   "nbconvert_exporter": "python",
   "pygments_lexer": "ipython3",
   "version": "3.7.9"
  }
 },
 "nbformat": 4,
 "nbformat_minor": 4
}
